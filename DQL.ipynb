{
 "cells": [
  {
   "cell_type": "code",
   "execution_count": 1,
   "metadata": {},
   "outputs": [],
   "source": [
    "import gym\n",
    "import numpy as np\n",
    "import random\n",
    "import copy"
   ]
  },
  {
   "cell_type": "code",
   "execution_count": 2,
   "metadata": {},
   "outputs": [],
   "source": [
    "class Network:\n",
    "    \n",
    "    def __init__(self, input_dim, hidden_dim, output_dim, num_layers):\n",
    "\n",
    "        self.W = [np.random.randn(input_dim, hidden_dim)*((2/(input_dim+hidden_dim))**0.5)]\n",
    "\n",
    "        self.b = [np.zeros(hidden_dim)]\n",
    "\n",
    "        self.gradW = [np.zeros((input_dim, hidden_dim))]\n",
    "\n",
    "        self.gradb = [np.zeros(hidden_dim)]\n",
    "\n",
    "        for i in range(num_layers):\n",
    "\n",
    "            self.W.append(np.random.randn(hidden_dim, hidden_dim)*((1/hidden_dim)**0.5))\n",
    "\n",
    "            self.b.append(np.zeros(hidden_dim))\n",
    "\n",
    "            self.gradW.append(np.zeros((hidden_dim, hidden_dim)))\n",
    "\n",
    "            self.gradb.append(np.zeros(hidden_dim))\n",
    "\n",
    "        self.W.append(np.random.randn(hidden_dim, output_dim)*((2/(hidden_dim+output_dim))**0.5))\n",
    "\n",
    "        self.b.append(np.zeros(output_dim))\n",
    "\n",
    "        self.gradW.append(np.zeros((hidden_dim, output_dim)))\n",
    "\n",
    "        self.gradb.append(np.zeros(output_dim))\n",
    "\n",
    "        self.activations = []\n",
    "\n",
    "\n",
    "\n",
    "    def forward(self, x):\n",
    "\n",
    "        self.activations = [x.copy()]\n",
    "\n",
    "        for i in range(len(self.W)-1):\n",
    "\n",
    "            x = np.maximum(x @ self.W[i] + self.b[i], 0)\n",
    "\n",
    "            self.activations.append(x.copy())\n",
    "\n",
    "        x = x @ self.W[-1] + self.b[-1]\n",
    "\n",
    "        return x\n",
    "\n",
    "\n",
    "\n",
    "    def backward(self, error):\n",
    "\n",
    "        self.gradW[-1] = self.activations[-1].reshape(-1, 1) @ error.reshape(1, -1)\n",
    "\n",
    "        self.gradb[-1] = error.copy()\n",
    "\n",
    "        for i in reversed(range(len(self.W)-1)):\n",
    "\n",
    "            error = (error @ self.W[i+1].T) * (self.activations[i+1]>0).astype(int)\n",
    "\n",
    "            self.gradW[i] = self.activations[i].reshape(-1, 1) @ error.reshape(1, -1)\n",
    "\n",
    "            self.gradb[i] = error.copy()\n",
    "\n",
    "\n",
    "\n",
    "    def update(self, lr):\n",
    "\n",
    "        for i in range(len(self.W)):\n",
    "\n",
    "            self.W[i] = self.W[i] - lr * self.gradW[i]\n",
    "\n",
    "            self.b[i] = self.b[i] - lr * self.gradb[i]\n",
    "\n",
    "\n",
    "\n",
    "    def __repr__(self):\n",
    "\n",
    "        return \"(\" + \", \".join([str(x.shape[0]) for x in self.W]) + \", \" + str(self.W[-1].shape[1]) + \")\""
   ]
  },
  {
   "cell_type": "code",
   "execution_count": 3,
   "metadata": {},
   "outputs": [
    {
     "name": "stderr",
     "output_type": "stream",
     "text": [
      "/home/batu/.local/lib/python3.8/site-packages/gym/core.py:317: DeprecationWarning: \u001b[33mWARN: Initializing wrapper in old step API which returns one bool instead of two. It is recommended to set `new_step_api=True` to use new step API. This will be the default behaviour in future.\u001b[0m\n",
      "  deprecation(\n",
      "/home/batu/.local/lib/python3.8/site-packages/gym/wrappers/step_api_compatibility.py:39: DeprecationWarning: \u001b[33mWARN: Initializing environment in old step API which returns one bool instead of two. It is recommended to set `new_step_api=True` to use new step API. This will be the default behaviour in future.\u001b[0m\n",
      "  deprecation(\n"
     ]
    },
    {
     "data": {
      "text/plain": [
       "array([ 0.042111  , -0.03571446, -0.00270681,  0.00681081], dtype=float32)"
      ]
     },
     "execution_count": 3,
     "metadata": {},
     "output_type": "execute_result"
    }
   ],
   "source": [
    "env = gym.make(\"CartPole-v1\")\n",
    "env.reset()"
   ]
  },
  {
   "cell_type": "code",
   "execution_count": 4,
   "metadata": {},
   "outputs": [],
   "source": [
    "def getTargetNet(net):\n",
    "    netCopy = Network(1,1,1,1)\n",
    "    netCopy.W = copy.deepcopy(net.W)\n",
    "    netCopy.b = copy.deepcopy(net.b)\n",
    "    netCopy.gradb = copy.deepcopy(net.gradb)\n",
    "    netCopy.gradW = copy.deepcopy(net.gradW)\n",
    "    netCopy.activations = copy.deepcopy(net.activations)\n",
    "    return netCopy"
   ]
  },
  {
   "cell_type": "code",
   "execution_count": 5,
   "metadata": {},
   "outputs": [],
   "source": [
    "def policy(x, epsilon):\n",
    "    r = random.random()\n",
    "    if r < epsilon:\n",
    "        return random.choice([0,1])\n",
    "    else:\n",
    "        return np.argmax(x)\n"
   ]
  },
  {
   "cell_type": "code",
   "execution_count": 8,
   "metadata": {},
   "outputs": [],
   "source": [
    "def estimatePerformance():  \n",
    "    counters = []\n",
    "    epsilon = -1\n",
    "    trials = 10\n",
    "    for i in range(trials):\n",
    "        counter = 0\n",
    "        terminated = False\n",
    "        observation = env.reset()\n",
    "        while not terminated:\n",
    "            action = np.argmax(net.forward(observation))\n",
    "            observation, reward, terminated, info = env.step(action)\n",
    "            counter += reward\n",
    "        counters.append(counter)\n",
    "\n",
    "    summ =  0\n",
    "    for i in range(trials):\n",
    "        summ += counters[i]\n",
    "    return summ/trials"
   ]
  },
  {
   "cell_type": "code",
   "execution_count": 9,
   "metadata": {},
   "outputs": [],
   "source": [
    "net = Network(4, 16, 2, 1) # (MLP structure: 4 -- 16 -- 16 -- 2)\n"
   ]
  },
  {
   "cell_type": "code",
   "execution_count": 10,
   "metadata": {},
   "outputs": [],
   "source": [
    "targetNet = getTargetNet(net)\n",
    "learning_rate = 0.0001\n",
    "gamma = 0.99 # for the horizon\n",
    "epsilon = 1.0 # decay it with 0.999 after each episode and fix it at 0.1\n",
    "epsilonDecay = 0.999\n",
    "counter = 0\n",
    "episode = 0"
   ]
  },
  {
   "cell_type": "code",
   "execution_count": 11,
   "metadata": {},
   "outputs": [
    {
     "name": "stdout",
     "output_type": "stream",
     "text": [
      "1000 9.7\n",
      "2000 53.4\n",
      "3000 200.6\n",
      "4000 247.0\n",
      "5000 500.0\n",
      "6000 500.0\n",
      "7000 500.0\n",
      "8000 434.9\n",
      "9000 500.0\n"
     ]
    },
    {
     "ename": "KeyboardInterrupt",
     "evalue": "",
     "output_type": "error",
     "traceback": [
      "\u001b[0;31m---------------------------------------------------------------------------\u001b[0m",
      "\u001b[0;31mKeyboardInterrupt\u001b[0m                         Traceback (most recent call last)",
      "\u001b[1;32m/mnt/c/users/batu/Desktop/RL/DQL/DQL.ipynb Cell 9\u001b[0m in \u001b[0;36m<cell line: 2>\u001b[0;34m()\u001b[0m\n\u001b[1;32m      <a href='vscode-notebook-cell://wsl%2Bubuntu-20.04/mnt/c/users/batu/Desktop/RL/DQL/DQL.ipynb#X11sdnNjb2RlLXJlbW90ZQ%3D%3D?line=4'>5</a>\u001b[0m \u001b[39mfor\u001b[39;00m i \u001b[39min\u001b[39;00m \u001b[39mrange\u001b[39m(\u001b[39m1000\u001b[39m):\n\u001b[1;32m      <a href='vscode-notebook-cell://wsl%2Bubuntu-20.04/mnt/c/users/batu/Desktop/RL/DQL/DQL.ipynb#X11sdnNjb2RlLXJlbW90ZQ%3D%3D?line=6'>7</a>\u001b[0m     x \u001b[39m=\u001b[39m net\u001b[39m.\u001b[39mforward(observation)\n\u001b[0;32m----> <a href='vscode-notebook-cell://wsl%2Bubuntu-20.04/mnt/c/users/batu/Desktop/RL/DQL/DQL.ipynb#X11sdnNjb2RlLXJlbW90ZQ%3D%3D?line=7'>8</a>\u001b[0m     action \u001b[39m=\u001b[39m policy(x, epsilon)\n\u001b[1;32m      <a href='vscode-notebook-cell://wsl%2Bubuntu-20.04/mnt/c/users/batu/Desktop/RL/DQL/DQL.ipynb#X11sdnNjb2RlLXJlbW90ZQ%3D%3D?line=8'>9</a>\u001b[0m     replayBuffer\u001b[39m.\u001b[39mappend((observation,x, action, env\u001b[39m.\u001b[39mstep(action)))\n\u001b[1;32m     <a href='vscode-notebook-cell://wsl%2Bubuntu-20.04/mnt/c/users/batu/Desktop/RL/DQL/DQL.ipynb#X11sdnNjb2RlLXJlbW90ZQ%3D%3D?line=9'>10</a>\u001b[0m     observation, reward, terminated, info \u001b[39m=\u001b[39m replayBuffer[\u001b[39m-\u001b[39m\u001b[39m1\u001b[39m][\u001b[39m-\u001b[39m\u001b[39m1\u001b[39m]\n",
      "\u001b[1;32m/mnt/c/users/batu/Desktop/RL/DQL/DQL.ipynb Cell 9\u001b[0m in \u001b[0;36mpolicy\u001b[0;34m(x, epsilon)\u001b[0m\n\u001b[1;32m      <a href='vscode-notebook-cell://wsl%2Bubuntu-20.04/mnt/c/users/batu/Desktop/RL/DQL/DQL.ipynb#X11sdnNjb2RlLXJlbW90ZQ%3D%3D?line=3'>4</a>\u001b[0m     \u001b[39mreturn\u001b[39;00m random\u001b[39m.\u001b[39mchoice([\u001b[39m0\u001b[39m,\u001b[39m1\u001b[39m])\n\u001b[1;32m      <a href='vscode-notebook-cell://wsl%2Bubuntu-20.04/mnt/c/users/batu/Desktop/RL/DQL/DQL.ipynb#X11sdnNjb2RlLXJlbW90ZQ%3D%3D?line=4'>5</a>\u001b[0m \u001b[39melse\u001b[39;00m:\n\u001b[0;32m----> <a href='vscode-notebook-cell://wsl%2Bubuntu-20.04/mnt/c/users/batu/Desktop/RL/DQL/DQL.ipynb#X11sdnNjb2RlLXJlbW90ZQ%3D%3D?line=5'>6</a>\u001b[0m     \u001b[39mreturn\u001b[39;00m np\u001b[39m.\u001b[39;49margmax(x)\n",
      "File \u001b[0;32m<__array_function__ internals>:180\u001b[0m, in \u001b[0;36margmax\u001b[0;34m(*args, **kwargs)\u001b[0m\n",
      "File \u001b[0;32m~/.local/lib/python3.8/site-packages/numpy/core/fromnumeric.py:1216\u001b[0m, in \u001b[0;36margmax\u001b[0;34m(a, axis, out, keepdims)\u001b[0m\n\u001b[1;32m   1129\u001b[0m \u001b[39m\"\"\"\u001b[39;00m\n\u001b[1;32m   1130\u001b[0m \u001b[39mReturns the indices of the maximum values along an axis.\u001b[39;00m\n\u001b[1;32m   1131\u001b[0m \n\u001b[0;32m   (...)\u001b[0m\n\u001b[1;32m   1213\u001b[0m \u001b[39m(2, 1, 4)\u001b[39;00m\n\u001b[1;32m   1214\u001b[0m \u001b[39m\"\"\"\u001b[39;00m\n\u001b[1;32m   1215\u001b[0m kwds \u001b[39m=\u001b[39m {\u001b[39m'\u001b[39m\u001b[39mkeepdims\u001b[39m\u001b[39m'\u001b[39m: keepdims} \u001b[39mif\u001b[39;00m keepdims \u001b[39mis\u001b[39;00m \u001b[39mnot\u001b[39;00m np\u001b[39m.\u001b[39m_NoValue \u001b[39melse\u001b[39;00m {}\n\u001b[0;32m-> 1216\u001b[0m \u001b[39mreturn\u001b[39;00m _wrapfunc(a, \u001b[39m'\u001b[39;49m\u001b[39margmax\u001b[39;49m\u001b[39m'\u001b[39;49m, axis\u001b[39m=\u001b[39;49maxis, out\u001b[39m=\u001b[39;49mout, \u001b[39m*\u001b[39;49m\u001b[39m*\u001b[39;49mkwds)\n",
      "File \u001b[0;32m~/.local/lib/python3.8/site-packages/numpy/core/fromnumeric.py:52\u001b[0m, in \u001b[0;36m_wrapfunc\u001b[0;34m(obj, method, *args, **kwds)\u001b[0m\n\u001b[1;32m     51\u001b[0m \u001b[39mdef\u001b[39;00m \u001b[39m_wrapfunc\u001b[39m(obj, method, \u001b[39m*\u001b[39margs, \u001b[39m*\u001b[39m\u001b[39m*\u001b[39mkwds):\n\u001b[0;32m---> 52\u001b[0m     bound \u001b[39m=\u001b[39m \u001b[39mgetattr\u001b[39;49m(obj, method, \u001b[39mNone\u001b[39;49;00m)\n\u001b[1;32m     53\u001b[0m     \u001b[39mif\u001b[39;00m bound \u001b[39mis\u001b[39;00m \u001b[39mNone\u001b[39;00m:\n\u001b[1;32m     54\u001b[0m         \u001b[39mreturn\u001b[39;00m _wrapit(obj, method, \u001b[39m*\u001b[39margs, \u001b[39m*\u001b[39m\u001b[39m*\u001b[39mkwds)\n",
      "\u001b[0;31mKeyboardInterrupt\u001b[0m: "
     ]
    }
   ],
   "source": [
    "while True:\n",
    "    observation = env.reset()\n",
    "    replayBuffer = []\n",
    "    targetNet = getTargetNet(net)\n",
    "    for i in range(1000):\n",
    "        \n",
    "        x = net.forward(observation)\n",
    "        action = policy(x, epsilon)\n",
    "        replayBuffer.append((observation,x, action, env.step(action)))\n",
    "        observation, reward, terminated, info = replayBuffer[-1][-1]\n",
    "        if terminated:\n",
    "            observation = env.reset()\n",
    "    errors = []\n",
    "    for frame in np.random.choice(range(len(replayBuffer)), 320, replace=False) :\n",
    "        frame = replayBuffer[frame]\n",
    "        state,x , action, step = frame\n",
    "        observation, reward, terminated, info = step\n",
    "        # x = targetNet.forward(state)\n",
    "        # net.gradW = targetNet.gradW\n",
    "        # net.gradb = targetNet.gradb\n",
    "        x = net.forward(state)\n",
    "        if terminated:\n",
    "            target = reward\n",
    "        else:\n",
    "            target = reward +  gamma * np.max(targetNet.forward(observation))\n",
    "        error = [-1 * (target - x[action]) if action == i else 0 for i in [0,1]]\n",
    "        net.backward(np.array(error).reshape(-1))\n",
    "        net.update(learning_rate)\n",
    "    if epsilon > 0.11 :\n",
    "        epsilon *= epsilonDecay\n",
    "    counter += 1\n",
    "    episode += 1\n",
    "    if counter == 1000:\n",
    "        print(episode, estimatePerformance())\n",
    "        counter = 0"
   ]
  },
  {
   "cell_type": "code",
   "execution_count": 90,
   "metadata": {},
   "outputs": [
    {
     "data": {
      "text/plain": [
       "array([147.85450564, 150.43269953])"
      ]
     },
     "execution_count": 90,
     "metadata": {},
     "output_type": "execute_result"
    }
   ],
   "source": [
    "net.forward(env.reset())"
   ]
  },
  {
   "cell_type": "code",
   "execution_count": 95,
   "metadata": {},
   "outputs": [
    {
     "data": {
      "text/plain": [
       "500.0"
      ]
     },
     "execution_count": 95,
     "metadata": {},
     "output_type": "execute_result"
    }
   ],
   "source": [
    "estimatePerformance()"
   ]
  },
  {
   "cell_type": "code",
   "execution_count": 144,
   "metadata": {},
   "outputs": [
    {
     "ename": "KeyboardInterrupt",
     "evalue": "",
     "output_type": "error",
     "traceback": [
      "\u001b[1;31m---------------------------------------------------------------------------\u001b[0m",
      "\u001b[1;31mKeyboardInterrupt\u001b[0m                         Traceback (most recent call last)",
      "Cell \u001b[1;32mIn [144], line 26\u001b[0m\n\u001b[0;32m     23\u001b[0m         error \u001b[38;5;241m=\u001b[39m  (reward \u001b[38;5;241m-\u001b[39m x[action]) \u001b[38;5;241m*\u001b[39m \u001b[38;5;241m-\u001b[39m\u001b[38;5;241m1\u001b[39m\n\u001b[0;32m     24\u001b[0m         error \u001b[38;5;241m=\u001b[39m [error \u001b[38;5;28;01mif\u001b[39;00m action \u001b[38;5;241m==\u001b[39m i \u001b[38;5;28;01melse\u001b[39;00m \u001b[38;5;241m0\u001b[39m \u001b[38;5;28;01mfor\u001b[39;00m i \u001b[38;5;129;01min\u001b[39;00m [\u001b[38;5;241m0\u001b[39m,\u001b[38;5;241m1\u001b[39m]]\n\u001b[1;32m---> 26\u001b[0m         \u001b[43mnet\u001b[49m\u001b[38;5;241;43m.\u001b[39;49m\u001b[43mbackward\u001b[49m\u001b[43m(\u001b[49m\u001b[43mnp\u001b[49m\u001b[38;5;241;43m.\u001b[39;49m\u001b[43marray\u001b[49m\u001b[43m(\u001b[49m\u001b[43merror\u001b[49m\u001b[43m)\u001b[49m\u001b[43m)\u001b[49m\n\u001b[0;32m     27\u001b[0m         net\u001b[38;5;241m.\u001b[39mupdate(learning_rate)\n\u001b[0;32m     29\u001b[0m targetNet \u001b[38;5;241m=\u001b[39m getTargetNet(net)\n",
      "Cell \u001b[1;32mIn [37], line 36\u001b[0m, in \u001b[0;36mNetwork.backward\u001b[1;34m(self, error)\u001b[0m\n\u001b[0;32m     34\u001b[0m \u001b[38;5;28;01mfor\u001b[39;00m i \u001b[38;5;129;01min\u001b[39;00m \u001b[38;5;28mreversed\u001b[39m(\u001b[38;5;28mrange\u001b[39m(\u001b[38;5;28mlen\u001b[39m(\u001b[38;5;28mself\u001b[39m\u001b[38;5;241m.\u001b[39mW)\u001b[38;5;241m-\u001b[39m\u001b[38;5;241m1\u001b[39m)):\n\u001b[0;32m     35\u001b[0m     error \u001b[38;5;241m=\u001b[39m (error \u001b[38;5;241m@\u001b[39m \u001b[38;5;28mself\u001b[39m\u001b[38;5;241m.\u001b[39mW[i\u001b[38;5;241m+\u001b[39m\u001b[38;5;241m1\u001b[39m]\u001b[38;5;241m.\u001b[39mT)  \u001b[38;5;241m*\u001b[39m (\u001b[38;5;28mself\u001b[39m\u001b[38;5;241m.\u001b[39mactivations[i\u001b[38;5;241m+\u001b[39m\u001b[38;5;241m1\u001b[39m]\u001b[38;5;241m>\u001b[39m\u001b[38;5;241m0\u001b[39m)\u001b[38;5;241m.\u001b[39mastype(\u001b[38;5;28mint\u001b[39m)\n\u001b[1;32m---> 36\u001b[0m     \u001b[38;5;28mself\u001b[39m\u001b[38;5;241m.\u001b[39mgradW[i] \u001b[38;5;241m=\u001b[39m \u001b[38;5;28;43mself\u001b[39;49m\u001b[38;5;241;43m.\u001b[39;49m\u001b[43mactivations\u001b[49m\u001b[43m[\u001b[49m\u001b[43mi\u001b[49m\u001b[43m]\u001b[49m\u001b[38;5;241;43m.\u001b[39;49m\u001b[43mreshape\u001b[49m\u001b[43m(\u001b[49m\u001b[38;5;241;43m-\u001b[39;49m\u001b[38;5;241;43m1\u001b[39;49m\u001b[43m,\u001b[49m\u001b[43m \u001b[49m\u001b[38;5;241;43m1\u001b[39;49m\u001b[43m)\u001b[49m\u001b[43m \u001b[49m\u001b[38;5;241;43m@\u001b[39;49m\u001b[43m \u001b[49m\u001b[43merror\u001b[49m\u001b[38;5;241;43m.\u001b[39;49m\u001b[43mreshape\u001b[49m\u001b[43m(\u001b[49m\u001b[38;5;241;43m1\u001b[39;49m\u001b[43m,\u001b[49m\u001b[43m \u001b[49m\u001b[38;5;241;43m-\u001b[39;49m\u001b[38;5;241;43m1\u001b[39;49m\u001b[43m)\u001b[49m\n\u001b[0;32m     37\u001b[0m     \u001b[38;5;28mself\u001b[39m\u001b[38;5;241m.\u001b[39mgradb[i] \u001b[38;5;241m=\u001b[39m error\u001b[38;5;241m.\u001b[39mcopy()\u001b[38;5;241m.\u001b[39mT\n\u001b[0;32m     38\u001b[0m \u001b[38;5;28mself\u001b[39m\u001b[38;5;241m.\u001b[39mgradW \u001b[38;5;241m=\u001b[39m [ np\u001b[38;5;241m.\u001b[39mclip(w,  \u001b[38;5;241m1\u001b[39m,  \u001b[38;5;241m-\u001b[39m\u001b[38;5;241m1\u001b[39m)\u001b[38;5;28;01mfor\u001b[39;00m w \u001b[38;5;129;01min\u001b[39;00m \u001b[38;5;28mself\u001b[39m\u001b[38;5;241m.\u001b[39mgradW]\n",
      "\u001b[1;31mKeyboardInterrupt\u001b[0m: "
     ]
    }
   ],
   "source": [
    "replayBuffer = []\n",
    "net = Network(4, 16, 2, 1)\n",
    "targetNet = getTargetNet(net)\n",
    "while True:\n",
    "    state = env.reset()\n",
    "    for i in range(1000):\n",
    "        x = net.forward(state)\n",
    "        action = policy(x)\n",
    "\n",
    "        replayBuffer.append((state,x, action, env.step(action)))\n",
    "        observation, reward, terminated, info = replayBuffer[-1][-1]\n",
    "        if terminated:\n",
    "            env.reset()\n",
    "        if(len(replayBuffer) < 32):\n",
    "            continue\n",
    "        for frame in np.random.choice(range(len(replayBuffer)), 320, replace=False) :\n",
    "            frame = replayBuffer[frame]\n",
    "            state,x , action, step = frame\n",
    "            observation, reward, terminated, info = step\n",
    "            x = net.forward(state)\n",
    "            if not terminated: \n",
    "                reward += gamma * np.max(targetNet.forward(observation))\n",
    "            error =  (reward - x[action]) * -1\n",
    "            error = [error if action == i else 0 for i in [0,1]]\n",
    "            \n",
    "            net.backward(np.array(error))\n",
    "            net.update(learning_rate)\n",
    "    \n",
    "    targetNet = getTargetNet(net)\n",
    "    if epsilon > 10 ** -1:\n",
    "        epsilon *= epsilonDecay\n",
    "    replayBuffer = []\n",
    "            \n",
    "        "
   ]
  }
 ],
 "metadata": {
  "kernelspec": {
   "display_name": "Python 3.8.10 64-bit",
   "language": "python",
   "name": "python3"
  },
  "language_info": {
   "codemirror_mode": {
    "name": "ipython",
    "version": 3
   },
   "file_extension": ".py",
   "mimetype": "text/x-python",
   "name": "python",
   "nbconvert_exporter": "python",
   "pygments_lexer": "ipython3",
   "version": "3.8.10"
  },
  "orig_nbformat": 4,
  "vscode": {
   "interpreter": {
    "hash": "916dbcbb3f70747c44a77c7bcd40155683ae19c65e1c03b4aa3499c5328201f1"
   }
  }
 },
 "nbformat": 4,
 "nbformat_minor": 2
}
